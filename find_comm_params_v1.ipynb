{
 "cells": [
  {
   "cell_type": "markdown",
   "metadata": {},
   "source": [
    " This script is to automatically find communication parameters for many units SNs, provided by Robin usually from broken returned units.\n",
    " Communication parameters are ch, gw, ed. They are at the corresponding structure_xxx.xml, in the header part.\n",
    " List of SNs comes from email, so just run next cell, insert with Ctrl-V copied listof SNs."
   ]
  },
  {
   "cell_type": "code",
   "execution_count": 42,
   "metadata": {},
   "outputs": [],
   "source": [
    "sns0=input() #sns0 is an str type\n",
    "sns1=sns0.split(\" \") #will be list of strings, each one is a separate SN to look for\n",
    "#print(sns1)"
   ]
  },
  {
   "cell_type": "code",
   "execution_count": 65,
   "metadata": {},
   "outputs": [
    {
     "name": "stdout",
     "output_type": "stream",
     "text": [
      "0716K000905 ch=1 gw=2 ed=3\n",
      "1216K000126 ch=3 gw=5 ed=6\n",
      "1216K000047 ch=3 gw=5 ed=6\n",
      "1716K000219 ch=5 gw=6 ed=7\n",
      "1216K000019 ch=7 gw=8 ed=9\n",
      "0716K000137 ch=3 gw=5 ed=6\n",
      "1716K000287 ch=6 gw=7 ed=8\n",
      "0716K000815 ch=1 gw=2 ed=3\n",
      "0716K000506 ch=1 gw=2 ed=3\n",
      "0716K000222 ch=4 gw=5 ed=6\n",
      "1716K000379 ch=7 gw=8 ed=9\n",
      "2216K000060 ch=2 gw=3 ed=4\n",
      "2116K000914 n/a\n",
      "2116K000936 n/a\n"
     ]
    }
   ],
   "source": [
    "# Let's try glob.glob with ** option, for python 3.5+ should work - AND it WORKS!\n",
    "import glob, os\n",
    "for sn in sns1:\n",
    "    comparam = set()\n",
    "    flag = 0 # means no records found\n",
    "    for file in glob.glob( \"C:\\ION_DATA\\data_log\\canadian_solar\\**\\*.xml\", recursive=True ): #look into all subfolders recursively\n",
    "        #print(\"looking in {}\".format(file))\n",
    "        with open(file) as f:\n",
    "            contents = f.read() #read the whole structure_xxx.xml to look for sn and ch, gw, ed\n",
    "        if sn in contents:\n",
    "            flag = 1 #means record found somewhere\n",
    "            pos_ch = contents.find(\"ch=\") + 4 #find position of ch=, and get actual value 4 position to right\n",
    "            pos_gw = contents.find(\"gw_addr=\") + 9\n",
    "            pos_ed = contents.find(\"ed_addr=\") + 9\n",
    "            tup = (contents[pos_ch] , contents[pos_gw], contents[pos_ed]) #tuple with ch, gw,ed\n",
    "            comparam.add(tup)\n",
    "            #print(tup)\n",
    "            #print('{} ch={} gw={} ed={} found in file {}'.format(sn, contents[pos_ch] , contents[pos_gw], contents[pos_ed], file))\n",
    "    if flag == 0 : # if sn was not found anywhere\n",
    "        #print( flag)\n",
    "        print('{} n/a'.format(sn))\n",
    "    else:\n",
    "        print('{} ch={} gw={} ed={}'.format(sn, list(comparam)[0][0], list(comparam)[0][1], list(comparam)[0][2]))"
   ]
  },
  {
   "cell_type": "code",
   "execution_count": 63,
   "metadata": {},
   "outputs": [
    {
     "name": "stdout",
     "output_type": "stream",
     "text": [
      "1 2 3\n"
     ]
    }
   ],
   "source": [
    "print(list(comparam)[0][0],list(comparam)[0][1],list(comparam)[0][2])"
   ]
  },
  {
   "cell_type": "code",
   "execution_count": null,
   "metadata": {},
   "outputs": [],
   "source": [
    "# old version, without searching in subfolders in glob\n",
    "import glob, os\n",
    "os.chdir(\"C:\\ION_DATA\\data_log\\canadian_solar\")\n",
    "for sn in sns1:\n",
    "    flag = 0 # means no records found\n",
    "    for file in glob.glob( \"*.xml\", recursive=True ):\n",
    "        #print(\"looking in {}\".format(file))\n",
    "        with open(file) as f:\n",
    "            contents = f.read() #read the whole structure_xxx.xml to look for sn and ch, gw, ed\n",
    "        if sn in contents:\n",
    "            flag = 1 #means record found somewhere\n",
    "            pos_ch = contents.find(\"ch=\") + 4 #find position of ch=, and get actual value 4 position to right\n",
    "            pos_gw = contents.find(\"gw_addr=\") + 9\n",
    "            pos_ed = contents.find(\"ed_addr=\") + 9\n",
    "            print('{} ch={} gw={} ed={} found in file {}'.format(sn, contents[pos_ch] , contents[pos_gw], contents[pos_ed], file))\n",
    "    if flag == 0: #no record was found in  \"C:\\ION_DATA\\data_log\\canadian_solar\"\n",
    "        os.chdir(\"C:\\ION_DATA\\data_log\\canadian_solar\\old_struct\")\n",
    "        for file in glob.glob( \"*.xml\", recursive=True ):\n",
    "            #print(\"looking in C:\\ION_DATA\\data_log\\canadian_solar\\old_struct\\{}\".format(file))\n",
    "            with open(file) as f:\n",
    "                contents = f.read() #read the whole structure_xxx.xml to look for sn and ch, gw, ed\n",
    "            if sn in contents:\n",
    "                flag = 1 #means record found somewhere\n",
    "                pos_ch = contents.find(\"ch=\") + 4 #find position of ch=, and get actual value 4 position to right\n",
    "                pos_gw = contents.find(\"gw_addr=\") + 9\n",
    "                pos_ed = contents.find(\"ed_addr=\") + 9\n",
    "                print('{} ch={} gw={} ed={} found in file {}'.format(sn, contents[pos_ch] , contents[pos_gw], contents[pos_ed], file))\n",
    "                #\"\"\"\n",
    "    if flag == 0 : # if sn was not found anywhere\n",
    "        #print( flag)\n",
    "        print('{} n/a'.format(sn))"
   ]
  }
 ],
 "metadata": {
  "kernelspec": {
   "display_name": "Python 3",
   "language": "python",
   "name": "python3"
  },
  "language_info": {
   "codemirror_mode": {
    "name": "ipython",
    "version": 3
   },
   "file_extension": ".py",
   "mimetype": "text/x-python",
   "name": "python",
   "nbconvert_exporter": "python",
   "pygments_lexer": "ipython3",
   "version": "3.6.1"
  }
 },
 "nbformat": 4,
 "nbformat_minor": 2
}
